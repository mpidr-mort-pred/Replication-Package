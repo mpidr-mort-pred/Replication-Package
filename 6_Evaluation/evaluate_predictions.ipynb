{
 "cells": [
  {
   "cell_type": "code",
   "execution_count": 1,
   "id": "22ff2dcb",
   "metadata": {},
   "outputs": [],
   "source": [
    "# import subprocess\n",
    "# import sys\n",
    "\n",
    "# def install(package):\n",
    "#     subprocess.check_call([sys.executable, \"-m\", \"pip\", \"install\", package])"
   ]
  },
  {
   "cell_type": "code",
   "execution_count": 2,
   "id": "b2a3ef22",
   "metadata": {},
   "outputs": [
    {
     "ename": "CalledProcessError",
     "evalue": "Command '['C:\\\\ProgramData\\\\Anaconda3\\\\python.exe', '-m', 'pip', 'install', 'scikit-survival']' returned non-zero exit status 1.",
     "output_type": "error",
     "traceback": [
      "\u001b[1;31m---------------------------------------------------------------------------\u001b[0m",
      "\u001b[1;31mCalledProcessError\u001b[0m                        Traceback (most recent call last)",
      "\u001b[1;32m~\\AppData\\Local\\Temp\\14\\ipykernel_23776\\2325206975.py\u001b[0m in \u001b[0;36m<module>\u001b[1;34m\u001b[0m\n\u001b[0;32m      1\u001b[0m \u001b[1;31m# #packages = ['pyreadr','scikit-survival']\u001b[0m\u001b[1;33m\u001b[0m\u001b[1;33m\u001b[0m\u001b[0m\n\u001b[1;32m----> 2\u001b[1;33m \u001b[0minstall\u001b[0m\u001b[1;33m(\u001b[0m\u001b[1;34m'scikit-survival'\u001b[0m\u001b[1;33m)\u001b[0m\u001b[1;33m\u001b[0m\u001b[1;33m\u001b[0m\u001b[0m\n\u001b[0m",
      "\u001b[1;32m~\\AppData\\Local\\Temp\\14\\ipykernel_23776\\3040820004.py\u001b[0m in \u001b[0;36minstall\u001b[1;34m(package)\u001b[0m\n\u001b[0;32m      3\u001b[0m \u001b[1;33m\u001b[0m\u001b[0m\n\u001b[0;32m      4\u001b[0m \u001b[1;32mdef\u001b[0m \u001b[0minstall\u001b[0m\u001b[1;33m(\u001b[0m\u001b[0mpackage\u001b[0m\u001b[1;33m)\u001b[0m\u001b[1;33m:\u001b[0m\u001b[1;33m\u001b[0m\u001b[1;33m\u001b[0m\u001b[0m\n\u001b[1;32m----> 5\u001b[1;33m     \u001b[0msubprocess\u001b[0m\u001b[1;33m.\u001b[0m\u001b[0mcheck_call\u001b[0m\u001b[1;33m(\u001b[0m\u001b[1;33m[\u001b[0m\u001b[0msys\u001b[0m\u001b[1;33m.\u001b[0m\u001b[0mexecutable\u001b[0m\u001b[1;33m,\u001b[0m \u001b[1;34m\"-m\"\u001b[0m\u001b[1;33m,\u001b[0m \u001b[1;34m\"pip\"\u001b[0m\u001b[1;33m,\u001b[0m \u001b[1;34m\"install\"\u001b[0m\u001b[1;33m,\u001b[0m \u001b[0mpackage\u001b[0m\u001b[1;33m]\u001b[0m\u001b[1;33m)\u001b[0m\u001b[1;33m\u001b[0m\u001b[1;33m\u001b[0m\u001b[0m\n\u001b[0m",
      "\u001b[1;32mC:\\ProgramData\\Anaconda3\\lib\\subprocess.py\u001b[0m in \u001b[0;36mcheck_call\u001b[1;34m(*popenargs, **kwargs)\u001b[0m\n\u001b[0;32m    371\u001b[0m         \u001b[1;32mif\u001b[0m \u001b[0mcmd\u001b[0m \u001b[1;32mis\u001b[0m \u001b[1;32mNone\u001b[0m\u001b[1;33m:\u001b[0m\u001b[1;33m\u001b[0m\u001b[1;33m\u001b[0m\u001b[0m\n\u001b[0;32m    372\u001b[0m             \u001b[0mcmd\u001b[0m \u001b[1;33m=\u001b[0m \u001b[0mpopenargs\u001b[0m\u001b[1;33m[\u001b[0m\u001b[1;36m0\u001b[0m\u001b[1;33m]\u001b[0m\u001b[1;33m\u001b[0m\u001b[1;33m\u001b[0m\u001b[0m\n\u001b[1;32m--> 373\u001b[1;33m         \u001b[1;32mraise\u001b[0m \u001b[0mCalledProcessError\u001b[0m\u001b[1;33m(\u001b[0m\u001b[0mretcode\u001b[0m\u001b[1;33m,\u001b[0m \u001b[0mcmd\u001b[0m\u001b[1;33m)\u001b[0m\u001b[1;33m\u001b[0m\u001b[1;33m\u001b[0m\u001b[0m\n\u001b[0m\u001b[0;32m    374\u001b[0m     \u001b[1;32mreturn\u001b[0m \u001b[1;36m0\u001b[0m\u001b[1;33m\u001b[0m\u001b[1;33m\u001b[0m\u001b[0m\n\u001b[0;32m    375\u001b[0m \u001b[1;33m\u001b[0m\u001b[0m\n",
      "\u001b[1;31mCalledProcessError\u001b[0m: Command '['C:\\\\ProgramData\\\\Anaconda3\\\\python.exe', '-m', 'pip', 'install', 'scikit-survival']' returned non-zero exit status 1."
     ]
    }
   ],
   "source": [
    "# #packages = ['pyreadr','scikit-survival']\n",
    "# install('scikit-survival')"
   ]
  },
  {
   "cell_type": "code",
   "execution_count": 1,
   "id": "c0f8a0a3",
   "metadata": {},
   "outputs": [
    {
     "ename": "ModuleNotFoundError",
     "evalue": "No module named 'sksurv'",
     "output_type": "error",
     "traceback": [
      "\u001b[1;31m---------------------------------------------------------------------------\u001b[0m",
      "\u001b[1;31mModuleNotFoundError\u001b[0m                       Traceback (most recent call last)",
      "\u001b[1;32m~\\AppData\\Local\\Temp\\14\\ipykernel_31948\\2549865887.py\u001b[0m in \u001b[0;36m<module>\u001b[1;34m\u001b[0m\n\u001b[0;32m     18\u001b[0m \u001b[1;32mfrom\u001b[0m \u001b[0msklearn\u001b[0m\u001b[1;33m.\u001b[0m\u001b[0mpreprocessing\u001b[0m \u001b[1;32mimport\u001b[0m \u001b[0mStandardScaler\u001b[0m\u001b[1;33m\u001b[0m\u001b[1;33m\u001b[0m\u001b[0m\n\u001b[0;32m     19\u001b[0m \u001b[1;33m\u001b[0m\u001b[0m\n\u001b[1;32m---> 20\u001b[1;33m \u001b[1;32mimport\u001b[0m \u001b[0msksurv\u001b[0m\u001b[1;33m.\u001b[0m\u001b[0mmetrics\u001b[0m\u001b[1;33m\u001b[0m\u001b[1;33m\u001b[0m\u001b[0m\n\u001b[0m\u001b[0;32m     21\u001b[0m from sksurv.metrics import (\n\u001b[0;32m     22\u001b[0m     \u001b[0mconcordance_index_censored\u001b[0m\u001b[1;33m,\u001b[0m\u001b[1;33m\u001b[0m\u001b[1;33m\u001b[0m\u001b[0m\n",
      "\u001b[1;31mModuleNotFoundError\u001b[0m: No module named 'sksurv'"
     ]
    }
   ],
   "source": [
    "# from os import listdir, getcwd\n",
    "# from os.path import join\n",
    "\n",
    "# import pyreadr\n",
    "\n",
    "import pandas as pd\n",
    "import numpy as np\n",
    "#import csv\n",
    "\n",
    "import matplotlib.pyplot as plt\n",
    "\n",
    "#import eli5\n",
    "#from eli5.sklearn import PermutationImportance\n",
    "\n",
    "from sklearn.model_selection import train_test_split\n",
    "from sklearn.impute import SimpleImputer\n",
    "from sklearn.pipeline import Pipeline\n",
    "from sklearn.preprocessing import StandardScaler\n",
    "\n",
    "import sksurv.metrics\n",
    "from sksurv.metrics import (\n",
    "    concordance_index_censored,\n",
    "    concordance_index_ipcw,\n",
    "    cumulative_dynamic_auc,\n",
    "    integrated_brier_score,\n",
    "    brier_score\n",
    ")\n",
    "\n",
    "from sksurv.functions import StepFunction\n",
    "from sksurv.nonparametric import kaplan_meier_estimator\n",
    "from sksurv.linear_model import CoxPHSurvivalAnalysis, CoxnetSurvivalAnalysis\n",
    "from sksurv.ensemble import RandomSurvivalForest, GradientBoostingSurvivalAnalysis\n",
    "\n",
    "#import LTRCmetrics as lt\n",
    "\n",
    "# from pysurvival.models.parametric import GompertzModel\n",
    "# from pysurvival.utils.metrics import concordance_index as ps_cindex\n",
    "# from pysurvival.utils.display import integrated_brier_score as ps_ibs"
   ]
  },
  {
   "cell_type": "markdown",
   "id": "d08c7fb7",
   "metadata": {},
   "source": [
    "# Load data"
   ]
  },
  {
   "cell_type": "code",
   "execution_count": null,
   "id": "58f55ecc",
   "metadata": {},
   "outputs": [],
   "source": [
    "# read in data\n",
    "# path = \"4_Predictions/time_age_comp/\"\n",
    "path = ''\n",
    "# y_train_age = pd.read_pickle(path + \"data/y_train_age.pkl\")\n",
    "# y_test_age = pd.read_pickle(path + \"data/y_test_age.pkl\")\n",
    "\n",
    "# y_train_time = pd.read_csv(path + \"4_modelling_data/y_train_ti.csv\")\n",
    "# y_test_time = pd.read_csv(path + \"4_modelling_data/y_test_ti.csv\")\n",
    "y_train_time = pd.read_csv(path + \"4_modelling_data/minus_backimpd/y_train_ti.csv\")\n",
    "y_test_time = pd.read_csv(path + \"4_modelling_data/minus_backimpd/y_test_ti.csv\")\n",
    "\n",
    "x_train_time = pd.read_csv(path + \"4_modelling_data/minus_backimpd/x_train_ti.csv\")\n",
    "x_test_time = pd.read_csv(path + \"4_modelling_data/minus_backimpd/x_test_ti.csv\")\n",
    "\n",
    "print(y_train_time.head());\n",
    "print(y_test_time.head())\n",
    "\n",
    "# print(x_train_time.head());\n",
    "# print(x_test_time.head())"
   ]
  },
  {
   "cell_type": "code",
   "execution_count": null,
   "id": "a1a0048b",
   "metadata": {},
   "outputs": [],
   "source": [
    "y_train_age = y_train_time.loc[:,['event','time']]\n",
    "y_train_age['time'] = y_train_age['time'] + x_train_time['age']\n",
    "y_train_age['event'] = y_train_age['event'].astype(bool)"
   ]
  },
  {
   "cell_type": "code",
   "execution_count": null,
   "id": "4007c333",
   "metadata": {},
   "outputs": [],
   "source": [
    "x_train_time['age']"
   ]
  },
  {
   "cell_type": "code",
   "execution_count": null,
   "id": "25034f2f",
   "metadata": {},
   "outputs": [],
   "source": [
    "y_train_age"
   ]
  },
  {
   "cell_type": "code",
   "execution_count": null,
   "id": "40a0741b",
   "metadata": {},
   "outputs": [],
   "source": [
    "np.max(y_train_age['time'])"
   ]
  },
  {
   "cell_type": "code",
   "execution_count": null,
   "id": "87061ef3",
   "metadata": {},
   "outputs": [],
   "source": [
    "y_train_age = y_train_age.to_records(index = False);\n",
    "y_train_age"
   ]
  },
  {
   "cell_type": "markdown",
   "id": "2985e88a",
   "metadata": {},
   "source": [
    "# Load estimated survival curves"
   ]
  },
  {
   "cell_type": "code",
   "execution_count": null,
   "id": "4a4bea9e",
   "metadata": {},
   "outputs": [],
   "source": [
    "# time points\n",
    "# times = np.arange(1,27).astype(int); \n",
    "times = np.arange(1,26).astype(int); \n",
    "times"
   ]
  },
  {
   "cell_type": "code",
   "execution_count": null,
   "id": "13f0ae50",
   "metadata": {},
   "outputs": [],
   "source": [
    "# drop spouse variables?\n",
    "# models: all, no_pwarm, nospouse, educl, gender, race\n",
    "model = 'race'"
   ]
  },
  {
   "cell_type": "code",
   "execution_count": null,
   "id": "f5d9cd3c",
   "metadata": {},
   "outputs": [],
   "source": [
    "if model == 'all':\n",
    "#     path = '5_predictions/curves/'\n",
    "    path = '5_predictions/minus_backimpd/curves/'\n",
    "    \n",
    "    cphreduced_time = pd.read_csv(path + \"cphreduced_out.csv\") # CoxPH reduced\n",
    "    cph_time = pd.read_csv(path + \"cph_out.csv\") # CoxPH\n",
    "    cph_tv_time = pd.read_csv(path + \"cph_tv_out.csv\") # time-varying CPH\n",
    "    #cphlasso_tv_time = pd.read_csv(path + 'cphlasso_tv_out.csv') # time-varying CPH lasso\n",
    "    cphnet_time = pd.read_csv(path + \"cphnet_out.csv\") # CoxNet\n",
    "    gbd_time = pd.read_csv(path + \"gbd_out.csv\") # GradBoost\n",
    "    rsf_time = pd.read_csv(path + \"rsf_out.csv\") # RSF\n",
    "    # random_time = pd.read_csv(path + \"random_out.csv\") # Random\n",
    "    km_time = pd.read_csv(path + \"km_out.csv\") # Kaplan-Meier\n",
    "    gomp_time = pd.read_csv(path + \"gomp_out.csv\") # Gompertz\n",
    "    pchazard_time = pd.read_csv(path + \"pchazard_time.csv\") # pchazard DL\n",
    "    deepsurv_time = pd.read_csv(path + \"deepsurv_time.csv\") # Deepsurv\n",
    "    deephit_time = pd.read_csv(path + \"deephit_time.csv\") # Deephit\n",
    "    rrf_time = pd.read_csv(path + \"rrf_out.csv\") # RRF\n",
    "    # cif_time = pd.read_csv(path + \"cif_out.csv\") # CIF\n",
    "    \n",
    "    mods = [\n",
    "        cphreduced_time,\n",
    "        cph_time,\n",
    "        cph_tv_time,\n",
    "#         cphlasso_tv_time,\n",
    "        cphnet_time,\n",
    "        gbd_time,\n",
    "        rsf_time,\n",
    "#         random_time,\n",
    "        km_time,\n",
    "        gomp_time,\n",
    "        pchazard_time,\n",
    "        deepsurv_time,\n",
    "        deephit_time,\n",
    "#         cif_time,        \n",
    "        rrf_time\n",
    "    ]\n",
    "    names = [\n",
    "        'CoxReduced',\n",
    "        'Cox',\n",
    "        'Cox-TV',\n",
    "        #'CoxLasso-TV',\n",
    "        'CoxNet',\n",
    "        'GradBoost',\n",
    "        'RSF',\n",
    "        #'Random',\n",
    "        'KM',\n",
    "        'Gompertz',\n",
    "        'DeepPCH',\n",
    "        'DeepSurv',\n",
    "        'DeepHit',\n",
    "        #'CIF-TV',\n",
    "        'RRF-TV'\n",
    "    ]    \n",
    "        \n",
    "    for mod in mods:\n",
    "        print(mod.shape)\n",
    "        \n",
    "    keepcols = np.intersect1d(cph_time.drop(['time'],axis=1).columns,cph_tv_time.drop(['time'],axis=1).columns)\n",
    "    print(keepcols.shape) \n",
    "    \n",
    "elif model == 'no_pwarm':\n",
    "    path = '5_predictions/no_pwarm/curves/'\n",
    "    \n",
    "    cphreduced_time = pd.read_csv(path + \"cphreduced_out.csv\") # CoxPH reduced\n",
    "    cph_time = pd.read_csv(path + \"cph_out.csv\") # CoxPH\n",
    "    cph_tv_time = pd.read_csv(path + \"cph_tv_out.csv\") # time-varying CPH\n",
    "    #cphlasso_tv_time = pd.read_csv(path + 'cphlasso_tv_out.csv') # time-varying CPH lasso\n",
    "    cphnet_time = pd.read_csv(path + \"cphnet_out.csv\") # CoxNet\n",
    "    gbd_time = pd.read_csv(path + \"gbd_out.csv\") # GradBoost\n",
    "    rsf_time = pd.read_csv(path + \"rsf_out.csv\") # RSF\n",
    "    # random_time = pd.read_csv(path + \"random_out.csv\") # Random\n",
    "    km_time = pd.read_csv(path + \"km_out.csv\") # Kaplan-Meier\n",
    "    gomp_time = pd.read_csv(path + \"gomp_out.csv\") # Gompertz\n",
    "    pchazard_time = pd.read_csv(path + \"pchazard_nopwarm.csv\") # pchazard DL\n",
    "    deepsurv_time = pd.read_csv(path + \"deepsurv_nopwarm.csv\") # Deepsurv\n",
    "    deephit_time = pd.read_csv(path + \"deephit_nopwarm.csv\") # Deephit\n",
    "    rrf_time = pd.read_csv(path + \"rrf_out.csv\") # RRF\n",
    "    # cif_time = pd.read_csv(path + \"cif_out.csv\") # CIF\n",
    "    \n",
    "    mods = [\n",
    "        cphreduced_time,\n",
    "        cph_time,\n",
    "        cph_tv_time,\n",
    "#         cphlasso_tv_time,\n",
    "        cphnet_time,\n",
    "        gbd_time,\n",
    "        rsf_time,\n",
    "#         random_time,\n",
    "        km_time,\n",
    "        gomp_time,\n",
    "        pchazard_time,\n",
    "        deepsurv_time,\n",
    "        deephit_time,\n",
    "#         cif_time,        \n",
    "        rrf_time\n",
    "    ]\n",
    "    names = [\n",
    "        'CoxReduced',\n",
    "        'Cox',\n",
    "        'Cox-TV',\n",
    "        #'CoxLasso-TV',\n",
    "        'CoxNet',\n",
    "        'GradBoost',\n",
    "        'RSF',\n",
    "        #'Random',\n",
    "        'KM',\n",
    "        'Gompertz',\n",
    "        'DeepPCH',\n",
    "        'DeepSurv',\n",
    "        'DeepHit',\n",
    "        #'CIF-TV',\n",
    "        'RRF-TV'\n",
    "    ]    \n",
    "        \n",
    "    for mod in mods:\n",
    "        print(mod.shape)\n",
    "        \n",
    "    keepcols = np.intersect1d(cph_time.drop(['time'],axis=1).columns,cph_tv_time.drop(['time'],axis=1).columns)\n",
    "    print(keepcols.shape)       \n",
    "    \n",
    "elif model == 'nospouse':    \n",
    "    path = '5_predictions/nospouse/curves/'\n",
    "    \n",
    "    cphreduced_time = pd.read_csv(path + \"cphreduced_out.csv\") # CoxPH reduced\n",
    "    cph_time = pd.read_csv(path + \"cph_out.csv\") # CoxPH\n",
    "    cph_tv_time = pd.read_csv(path + \"cph_tv_out.csv\") # time-varying CPH\n",
    "    #cphlasso_tv_time = pd.read_csv(path + 'cphlasso_tv_out.csv') # time-varying CPH lasso\n",
    "    cphnet_time = pd.read_csv(path + \"cphnet_out.csv\") # CoxNet\n",
    "    gbd_time = pd.read_csv(path + \"gbd_out.csv\") # GradBoost\n",
    "    rsf_time = pd.read_csv(path + \"rsf_out.csv\") # RSF\n",
    "    # random_time = pd.read_csv(path + \"random_out.csv\") # Random\n",
    "    km_time = pd.read_csv(path + \"km_out.csv\") # Kaplan-Meier\n",
    "    gomp_time = pd.read_csv(path + \"gomp_out.csv\") # Gompertz\n",
    "    pchazard_time = pd.read_csv(path + \"pchazard_rlevel.csv\") # pchazard DL\n",
    "    deepsurv_time = pd.read_csv(path + \"deepsurv_rlevel.csv\") # Deepsurv\n",
    "    deephit_time = pd.read_csv(path + \"deephit_rlevel.csv\") # Deephit\n",
    "    rrf_time = pd.read_csv(path + \"rrf_out.csv\") # RRF\n",
    "    # cif_time = pd.read_csv(path + \"cif_out.csv\") # CIF\n",
    "    \n",
    "    mods = [\n",
    "        cphreduced_time,\n",
    "        cph_time,\n",
    "        cph_tv_time,\n",
    "#         cphlasso_tv_time,\n",
    "        cphnet_time,\n",
    "        gbd_time,\n",
    "        rsf_time,\n",
    "#         random_time,\n",
    "        km_time,\n",
    "        gomp_time,\n",
    "        pchazard_time,\n",
    "        deepsurv_time,\n",
    "        deephit_time,\n",
    "#         cif_time,  \n",
    "        rrf_time\n",
    "    ]\n",
    "    names = [\n",
    "        'CoxReduced',        \n",
    "        'Cox',\n",
    "        'Cox-TV',\n",
    "        #'CoxLasso-TV',\n",
    "        'CoxNet',\n",
    "        'GradBoost',\n",
    "        'RSF',\n",
    "        #'Random',\n",
    "        'KM',\n",
    "        'Gompertz',\n",
    "        'DeepPCH',\n",
    "        'DeepSurv',\n",
    "        'DeepHit',\n",
    "        #'CIF-TV',\n",
    "        'RRF-TV'\n",
    "    ] \n",
    "    \n",
    "    for mod in mods:\n",
    "        print(mod.shape)  \n",
    "        \n",
    "    keepcols = np.intersect1d(cph_time.drop(['time'],axis=1).columns,cph_tv_time.drop(['time'],axis=1).columns)\n",
    "    print(keepcols.shape)   \n",
    "    \n",
    "else:\n",
    "#     path = '5_predictions/oversampled/curves/' + model + \"/\"      \n",
    "    path = '5_predictions/oversampled_minus_backimpd/curves/' + model + \"/\"    \n",
    "\n",
    "    cphreduced_time = pd.read_csv(path + \"cphreduced_out.csv\") # CoxPH reduced    \n",
    "    cph_time = pd.read_csv(path + \"cph_out.csv\") # CoxPH\n",
    "    cphnet_time = pd.read_csv(path + \"cphnet_out.csv\") # CoxNet\n",
    "    gbd_time = pd.read_csv(path + \"gbd_out.csv\") # GradBoost\n",
    "    rsf_time = pd.read_csv(path + \"rsf_out.csv\") # RSF\n",
    "    # random_time = pd.read_csv(path + \"random_out.csv\") # Random\n",
    "    km_time = pd.read_csv(path + \"km_out.csv\") # Kaplan-Meier\n",
    "#     gomp_time = pd.read_csv(path + \"gomp_out_\" + model + \".csv\") # Gompertz\n",
    "    gomp_time = pd.read_csv(path + \"gomp_out.csv\") # Gompertz\n",
    "    pchazard_time = pd.read_csv(path + \"pchazard_\" + model + \"_time.csv\") # pchazard DL\n",
    "    deepsurv_time = pd.read_csv(path + \"deepsurv_\" + model + \"_time.csv\") # Deepsurv\n",
    "    deephit_time = pd.read_csv(path + \"deephit_\" + model + \"_time.csv\") # Deephit\n",
    "    \n",
    "    mods = [\n",
    "        cphreduced_time,\n",
    "        cph_time,\n",
    "        cphnet_time,\n",
    "        gbd_time,\n",
    "        rsf_time,\n",
    "#         random_time,\n",
    "        km_time,\n",
    "        gomp_time,\n",
    "        pchazard_time,\n",
    "        deepsurv_time,\n",
    "        deephit_time\n",
    "    ]\n",
    "    names = [\n",
    "        'CoxReduced',\n",
    "        'Cox',\n",
    "        'CoxNet',\n",
    "        'GradBoost',\n",
    "        'RSF',\n",
    "        #'Random',\n",
    "        'KM',\n",
    "        'Gompertz',\n",
    "        'DeepPCH',\n",
    "        'DeepSurv',\n",
    "        'DeepHit'\n",
    "    ]    \n",
    "    \n",
    "    for mod in mods:\n",
    "        print(mod.shape)   \n",
    "        \n",
    "    keepcols = np.intersect1d(cph_time.drop(['time'],axis=1).columns,gomp_time.drop(['time'],axis=1).columns)\n",
    "    print(keepcols.shape) "
   ]
  },
  {
   "cell_type": "code",
   "execution_count": null,
   "id": "4e7895cf",
   "metadata": {},
   "outputs": [],
   "source": [
    "probs = [np.array(mod.loc[times,keepcols].transpose()) for mod in mods]    \n",
    "probs_full = [np.array(mod.loc[:,keepcols].transpose()) for mod in mods]   "
   ]
  },
  {
   "cell_type": "markdown",
   "id": "d7ec96fe",
   "metadata": {},
   "source": [
    "# Evaluate Performance"
   ]
  },
  {
   "cell_type": "markdown",
   "id": "0e7cd601",
   "metadata": {},
   "source": [
    "## Form list of predictions"
   ]
  },
  {
   "cell_type": "code",
   "execution_count": null,
   "id": "71307938",
   "metadata": {},
   "outputs": [],
   "source": [
    "# # check all time evaluation points are the same\n",
    "# times_cph = np.array(cph_time['time']); print(times_cph)\n",
    "# times_cphnet = np.array(cphnet_time['time']); print(times_cphnet)\n",
    "# times_rsf = np.array(rsf_time['time']); print(times_rsf)\n",
    "# times_gbd = np.array(gbd_time['time']); print(times_gbd)\n",
    "# times_random = np.array(random_time['time']); print(times_random)\n",
    "# times_km = np.array(km_time['time']); print(times_km)\n",
    "# times_gomp = np.array(gomp_time['time']); print(times_gomp)\n",
    "# times_pchazard = np.array(pchazard_time['time']); print(times_pchazard)\n",
    "# times_deepsurv = np.array(deepsurv_time['time']); print(times_deepsurv)\n",
    "# times_deephit = np.array(deephit_time['time']); print(times_deephit)\n",
    "# times_rrf = np.array(rrf_time['time']); print(times_rrf)\n",
    "# # times_cif = np.array(cif_time['time']); print(times_cif)\n",
    "# times_cph_tv = np.array(cph_tv_time['time']); print(times_cph_tv)\n",
    "# times_cphlasso_tv = np.array(cphlasso_tv_time['time']); print(times_cphlasso_tv)"
   ]
  },
  {
   "cell_type": "code",
   "execution_count": null,
   "id": "017e00bb",
   "metadata": {},
   "outputs": [],
   "source": [
    "# times = times_cph[0:28].astype(int); times # can't start at 0"
   ]
  },
  {
   "cell_type": "code",
   "execution_count": null,
   "id": "dc7284c7",
   "metadata": {},
   "outputs": [],
   "source": [
    "# times = times_cph[1:27].astype(int); times"
   ]
  },
  {
   "cell_type": "code",
   "execution_count": null,
   "id": "b5d118da",
   "metadata": {},
   "outputs": [],
   "source": [
    "# times = np.arange(1,27).astype(int); times\n",
    "# times = np.arange(1,26).astype(int); times"
   ]
  },
  {
   "cell_type": "code",
   "execution_count": null,
   "id": "1732d5ee",
   "metadata": {},
   "outputs": [],
   "source": [
    "for j in range(len(probs)):\n",
    "    print(probs[j].shape)\n",
    "    print(probs_full[j].shape)"
   ]
  },
  {
   "cell_type": "code",
   "execution_count": null,
   "id": "0dc6bbb5",
   "metadata": {},
   "outputs": [],
   "source": [
    "# remove subjects fromt training set with 0 time in study\n",
    "# train_inds = (y_train_time['exit_time_outcome'] >= 0); train_inds"
   ]
  },
  {
   "cell_type": "code",
   "execution_count": null,
   "id": "d170c2fa",
   "metadata": {},
   "outputs": [],
   "source": [
    "# np.sum(y_train_time['exit_time_outcome'] == 0)"
   ]
  },
  {
   "cell_type": "code",
   "execution_count": null,
   "id": "fb308574",
   "metadata": {},
   "outputs": [],
   "source": [
    "# remove subjects from test set with time in study greater than max time in train set\n",
    "# test_inds = (y_test_time['exit_time_outcome'] <= np.max(y_train_time['exit_time_outcome'])) & (y_test_time['exit_time_outcome'] >= 0)\n",
    "# np.sum(1-test_inds)"
   ]
  },
  {
   "cell_type": "code",
   "execution_count": null,
   "id": "135b54fe",
   "metadata": {},
   "outputs": [],
   "source": [
    "y_test_time.index = x_test_time['hhidpn'].astype(str)"
   ]
  },
  {
   "cell_type": "code",
   "execution_count": null,
   "id": "de2d6bbf",
   "metadata": {},
   "outputs": [],
   "source": [
    "y_test_time.loc[keepcols.tolist()]"
   ]
  },
  {
   "cell_type": "code",
   "execution_count": null,
   "id": "ec1f3320",
   "metadata": {},
   "outputs": [],
   "source": [
    "y_train_time['event'] = y_train_time['event'].astype(bool)\n",
    "y_test_time['event'] = y_test_time['event'].astype(bool)"
   ]
  },
  {
   "cell_type": "code",
   "execution_count": null,
   "id": "845d4a99",
   "metadata": {},
   "outputs": [],
   "source": [
    "y_train = y_train_time.loc[:,['event','time']].to_records(index=False)\n",
    "y_test = y_test_time.loc[keepcols.tolist(),['event','time']].to_records(index=False)"
   ]
  },
  {
   "cell_type": "code",
   "execution_count": null,
   "id": "9c3aadf1",
   "metadata": {},
   "outputs": [],
   "source": [
    "y_train"
   ]
  },
  {
   "cell_type": "code",
   "execution_count": null,
   "id": "79d37a21",
   "metadata": {},
   "outputs": [],
   "source": [
    "print(y_train.dtype)\n",
    "print(y_test.dtype)\n",
    "\n",
    "print(y_train.shape)\n",
    "print(y_test.shape)\n",
    "\n",
    "print(y_train_time.shape)\n",
    "print(y_test_time.shape)"
   ]
  },
  {
   "cell_type": "code",
   "execution_count": null,
   "id": "21515e22",
   "metadata": {},
   "outputs": [],
   "source": [
    "np.sum(y_test_time['time'] >= 27) # very small sample size beyong 27 -- evaluate metrics only up to 26"
   ]
  },
  {
   "cell_type": "markdown",
   "id": "e443d233",
   "metadata": {},
   "source": [
    "#### Include sample weights and standard error calculations in metrics?"
   ]
  },
  {
   "cell_type": "code",
   "execution_count": null,
   "id": "678b4c5a",
   "metadata": {},
   "outputs": [],
   "source": [
    "# def brier_score_weights(y_train, y_test, probs, times, weights, z):\n",
    "\n",
    "# def integrated_brier_score_weights(y_train, y_test, probs, times, weights, z):\n",
    "\n",
    "# def cumulative_dynamic_auc_weights(y_train, y_test, risks, times, weights, z):"
   ]
  },
  {
   "cell_type": "markdown",
   "id": "621648bb",
   "metadata": {},
   "source": [
    "#### Calculate MAE of predicted years lived in study"
   ]
  },
  {
   "cell_type": "code",
   "execution_count": null,
   "id": "8b42dbcc",
   "metadata": {},
   "outputs": [],
   "source": [
    "def rmse(obs,exp,inds):\n",
    "    return(np.sqrt(np.mean(inds*((obs-exp)**2))))\n",
    "\n",
    "def mae(obs,exp,inds):\n",
    "    return(np.mean(np.abs(inds*(obs-exp))))\n",
    "\n",
    "def bias(obs,exp,inds):\n",
    "    return(np.mean(inds*(obs-exp)))"
   ]
  },
  {
   "cell_type": "code",
   "execution_count": null,
   "id": "5038f54e",
   "metadata": {},
   "outputs": [],
   "source": [
    "# dicts = {}\n",
    "# for ind, model in enumerate(names):\n",
    "#         dicts[model] = np.trapz(probs_full[ind],axis=1) \n",
    "        \n",
    "# dicts"
   ]
  },
  {
   "cell_type": "code",
   "execution_count": null,
   "id": "191ebc09",
   "metadata": {},
   "outputs": [],
   "source": [
    "expected_years = pd.Series(\n",
    "    [np.trapz(probs_full[ind],axis=1) for ind in range(len(names))],\n",
    "    index = names,\n",
    "    name = \"Expected years lived\"\n",
    ")"
   ]
  },
  {
   "cell_type": "markdown",
   "id": "3587b81d",
   "metadata": {},
   "source": [
    "## Calculate metrics"
   ]
  },
  {
   "cell_type": "code",
   "execution_count": null,
   "id": "ec4fd8f5",
   "metadata": {},
   "outputs": [],
   "source": [
    "# Compare models\n",
    "score_int_brier = pd.Series(\n",
    "    [integrated_brier_score(y_train, y_test, prob, times) for prob in probs],\n",
    "    index = names,\n",
    "    name = \"IBS\"\n",
    ")\n",
    "\n",
    "score_mean_auc = pd.Series(\n",
    "    [cumulative_dynamic_auc(y_train, y_test, -prob, times)[1] for prob in probs],\n",
    "    index = names,\n",
    "    name = \"Mean AUC\"\n",
    ")\n",
    "\n",
    "score_mae = pd.Series(\n",
    "    [\n",
    "        mae(y_test['time'],expected_years[model],y_test['event']) for model in names\n",
    "    ],\n",
    "    index = names,\n",
    "    name = \"MAE\"\n",
    ")\n",
    "\n",
    "score_bias = pd.Series(\n",
    "    [\n",
    "        bias(y_test['time'],expected_years[model],y_test['event']) for model in names\n",
    "    ],\n",
    "    index = names,\n",
    "    name = \"Bias\"\n",
    ")\n",
    "\n",
    "# score_rmse = pd.Series(\n",
    "#     [\n",
    "#         rmse(y_test['time'],expected_years[model],y_test['event']) for model in names\n",
    "#     ],\n",
    "#     index = names,\n",
    "#     name = \"RMSE\"\n",
    "# )\n",
    "\n",
    "# dynamic metrics\n",
    "score_dynamic_brier = pd.Series(\n",
    "    [brier_score(y_train, y_test, prob, times)[1] for prob in probs],\n",
    "    index = names,\n",
    "    name = \"Brier score\"\n",
    ")\n",
    "\n",
    "score_dynamic_auc = pd.Series(\n",
    "    [cumulative_dynamic_auc(y_train, y_test, -prob, times)[0] for prob in probs],\n",
    "    index = names,\n",
    "    name = \"AUC\"\n",
    ")\n",
    "\n",
    "scores_rc = pd.concat([score_int_brier,score_mean_auc,score_mae,score_bias], axis = 1).round(3); scores_rc"
   ]
  },
  {
   "cell_type": "code",
   "execution_count": null,
   "id": "c0ca097d",
   "metadata": {},
   "outputs": [],
   "source": [
    "# Plot Dynamic AUC\n",
    "fs = 12  # fontsize\n",
    "fig, ax = plt.subplots(nrows=1, ncols=2, figsize=(16,6))\n",
    "ax[0].set_title('time-dependent AUC', fontsize=fs)\n",
    "ax[1].set_title('time-dependent Brier score', fontsize=fs)\n",
    "\n",
    "for j in range(len(probs)):\n",
    "    ax[0].plot(times, score_dynamic_auc[j], \"o-\", label=str(names[j]) + \" (mean AUC = {:.3f})\".format(score_mean_auc[j]))\n",
    "    ax[1].plot(times, score_dynamic_brier[j], \"o-\", label=str(names[j]) + \" (IBS = {:.3f})\".format(score_int_brier[j]))\n",
    "\n",
    "ax[0].set_xlabel(\"Time to death (yrs)\")\n",
    "ax[1].set_xlabel(\"Time to death (yrs)\")\n",
    "\n",
    "ax[0].set_ylabel(\"AUC\")\n",
    "ax[1].set_ylabel(\"Brier score\")\n",
    "\n",
    "ax[0].legend(loc=\"lower right\")\n",
    "ax[1].legend(loc=\"lower right\")\n",
    "ax[0].grid(True); ax[1].grid(True)"
   ]
  },
  {
   "cell_type": "code",
   "execution_count": null,
   "id": "d7c36c90",
   "metadata": {},
   "outputs": [],
   "source": [
    "path = '6_Evaluation/minus_backimpd/'\n",
    "\n",
    "# save metrics\n",
    "dicts = {'time':times}\n",
    "for _, mod in enumerate(score_dynamic_brier.index):\n",
    "        dicts[mod] = score_dynamic_brier[mod]\n",
    "score_dynamic_brier_df = pd.DataFrame(dicts)\n",
    "\n",
    "score_dynamic_brier_df.to_csv(path + model + '/brier.csv')\n",
    "\n",
    "dicts = {'time':times}\n",
    "for _, mod in enumerate(score_dynamic_brier.index):\n",
    "        dicts[mod] = score_dynamic_auc[mod]\n",
    "score_dynamic_auc_df = pd.DataFrame(dicts)\n",
    "\n",
    "score_dynamic_auc_df.to_csv(path + model + '/auc.csv')\n",
    "\n",
    "score_int_brier.to_csv(path + model + '/int_brier.csv')\n",
    "score_mean_auc.to_csv(path + model + '/mean_auc.csv')\n",
    "score_mae.to_csv(path + model + '/mae.csv')\n",
    "score_bias.to_csv(path + model + '/bias.csv')"
   ]
  },
  {
   "cell_type": "code",
   "execution_count": null,
   "id": "5e8c0c4c",
   "metadata": {},
   "outputs": [],
   "source": [
    "score_dynamic_auc['Cox']"
   ]
  },
  {
   "cell_type": "code",
   "execution_count": null,
   "id": "58f7f150",
   "metadata": {},
   "outputs": [],
   "source": [
    "score_dynamic_auc['GradBoost']"
   ]
  },
  {
   "cell_type": "markdown",
   "id": "0f9c29e7",
   "metadata": {},
   "source": [
    "# Break down metrics by groups"
   ]
  },
  {
   "cell_type": "code",
   "execution_count": null,
   "id": "42109c05",
   "metadata": {},
   "outputs": [],
   "source": [
    "# y_train_time = y_train\n",
    "# y_test_time = y_test"
   ]
  },
  {
   "cell_type": "code",
   "execution_count": null,
   "id": "e56ab125",
   "metadata": {},
   "outputs": [],
   "source": [
    "x_train_time.index = x_train_time['hhidpn'].astype(str)\n",
    "x_test_time.index = x_test_time['hhidpn'].astype(str)"
   ]
  },
  {
   "cell_type": "code",
   "execution_count": null,
   "id": "65197751",
   "metadata": {},
   "outputs": [],
   "source": [
    "x_test = x_test_time.loc[keepcols.tolist(),:]\n",
    "x_train = x_train_time"
   ]
  },
  {
   "cell_type": "code",
   "execution_count": null,
   "id": "ca702cff",
   "metadata": {},
   "outputs": [],
   "source": [
    "# surv_prob_all = pyreadr.read_r(\"surv_prob_all.rds\")[None]"
   ]
  },
  {
   "cell_type": "code",
   "execution_count": null,
   "id": "409f9b11",
   "metadata": {},
   "outputs": [],
   "source": [
    "# surv_prob_all"
   ]
  },
  {
   "cell_type": "code",
   "execution_count": null,
   "id": "03595ac3",
   "metadata": {},
   "outputs": [],
   "source": [
    "x_test.columns"
   ]
  },
  {
   "cell_type": "code",
   "execution_count": null,
   "id": "5c3a584f",
   "metadata": {},
   "outputs": [],
   "source": [
    "probs[0].shape"
   ]
  },
  {
   "cell_type": "markdown",
   "id": "ec16dea9",
   "metadata": {},
   "source": [
    "### Gender"
   ]
  },
  {
   "cell_type": "code",
   "execution_count": null,
   "id": "baa17c49",
   "metadata": {},
   "outputs": [],
   "source": [
    "print(np.mean(y_test['time'][x_test['r_gender_cat']==0])) # men\n",
    "print(np.mean(y_test['time'][x_test['r_gender_cat']==1])) # women"
   ]
  },
  {
   "cell_type": "code",
   "execution_count": null,
   "id": "b80e2ff5",
   "metadata": {},
   "outputs": [],
   "source": [
    "gender = 0\n",
    "\n",
    "train_inds = (x_train['r_gender_cat'] == gender) \n",
    "test_inds = (x_test['r_gender_cat'] == gender) \n",
    "test_inds_mae = test_inds\n",
    "\n",
    "test_inds *=  y_test['time'] <= np.max(y_train['time'][train_inds])\n",
    "\n",
    "if gender == 0:\n",
    "    group = 'gender_men'\n",
    "else:\n",
    "    group = 'gender_women'"
   ]
  },
  {
   "cell_type": "markdown",
   "id": "6cffa3cc",
   "metadata": {},
   "source": [
    "### Race"
   ]
  },
  {
   "cell_type": "code",
   "execution_count": null,
   "id": "546d74ba",
   "metadata": {},
   "outputs": [],
   "source": [
    "print(np.mean(y_test['time'][(x_test['r_race_cat']==1) & y_test['event']])) # white\n",
    "print(np.mean(y_test['time'][(x_test['r_race_cat']==2) & y_test['event']])) # black\n",
    "print(np.mean(y_test['time'][(x_test['r_race_cat']==3) & y_test['event']])) # hispanic"
   ]
  },
  {
   "cell_type": "code",
   "execution_count": null,
   "id": "19c57dc3",
   "metadata": {},
   "outputs": [],
   "source": [
    "print(np.mean(y_test['time'][(x_test['r_race_cat']==1)])) # white\n",
    "print(np.mean(y_test['time'][(x_test['r_race_cat']==2)])) # black\n",
    "print(np.mean(y_test['time'][(x_test['r_race_cat']==3)])) # hispanic"
   ]
  },
  {
   "cell_type": "code",
   "execution_count": null,
   "id": "dc79a0f5",
   "metadata": {},
   "outputs": [],
   "source": [
    "print(np.std(y_test['time'][(x_test['r_race_cat']==1) & y_test['event']])) # white\n",
    "print(np.std(y_test['time'][(x_test['r_race_cat']==2) & y_test['event']])) # black\n",
    "print(np.std(y_test['time'][(x_test['r_race_cat']==3) & y_test['event']])) # hispanic"
   ]
  },
  {
   "cell_type": "code",
   "execution_count": null,
   "id": "b5b27b8c",
   "metadata": {},
   "outputs": [],
   "source": [
    "race1 = 1\n",
    "race2 = 1\n",
    "\n",
    "train_inds = (x_train['r_race_cat'] == race1) | (x_train['r_race_cat'] == race2)\n",
    "test_inds = (x_test['r_race_cat'] == race1) | (x_test['r_race_cat'] == race2)\n",
    "# train_inds = (x_train['r_race_cat'] == race1) \n",
    "# test_inds = (x_test['r_race_cat'] == race1)\n",
    "test_inds_mae = test_inds\n",
    "\n",
    "test_inds *=  y_test['time'] <= np.max(y_train['time'][train_inds])\n",
    "\n",
    "if (race1 == 1) & (race2 == 1):\n",
    "    group = 'race_white'\n",
    "elif (race1 == 2) & (race2 == 2):\n",
    "    group = 'race_black'\n",
    "elif (race1 == 3) & (race2 == 3):\n",
    "    group = 'race_hispanic' \n",
    "elif (race1 == 2) & (race2 == 3):\n",
    "    group = 'race_nonwhite'      "
   ]
  },
  {
   "cell_type": "markdown",
   "id": "ce7ad2df",
   "metadata": {},
   "source": [
    "### Age"
   ]
  },
  {
   "cell_type": "code",
   "execution_count": null,
   "id": "68595256",
   "metadata": {},
   "outputs": [],
   "source": [
    "# train_inds = (x_train['age'] < 150 ) & (x_train['age'] >= 80)\n",
    "# test_inds = (x_test['age'] < 150 ) & (x_test['age'] >= 80)\n",
    "# test_inds_mae = test_inds\n",
    "\n",
    "# test_inds *=  y_test['time'] <= np.max(y_train['time'][train_inds])"
   ]
  },
  {
   "cell_type": "markdown",
   "id": "3fa890f3",
   "metadata": {},
   "source": [
    "### Education"
   ]
  },
  {
   "cell_type": "code",
   "execution_count": null,
   "id": "742f8ad1",
   "metadata": {},
   "outputs": [],
   "source": [
    "x_train['r_educl_cat'] # 1 = low, 2 = medium, 3 = high"
   ]
  },
  {
   "cell_type": "code",
   "execution_count": null,
   "id": "e5257890",
   "metadata": {},
   "outputs": [],
   "source": [
    "educ = 1\n",
    "\n",
    "train_inds = (x_train['r_educl_cat'] == educ) \n",
    "test_inds = (x_test['r_educl_cat'] == educ) \n",
    "test_inds_mae = test_inds\n",
    "\n",
    "test_inds *=  y_test['time'] <= np.max(y_train['time'][train_inds])\n",
    "\n",
    "if educ == 1:\n",
    "    group = 'educl_low'\n",
    "elif educ == 2:\n",
    "    group = 'educl_medium'\n",
    "else:\n",
    "    group = 'educl_high'"
   ]
  },
  {
   "cell_type": "markdown",
   "id": "c8c20cd5",
   "metadata": {},
   "source": [
    "## Calculate"
   ]
  },
  {
   "cell_type": "code",
   "execution_count": null,
   "id": "62e655ae",
   "metadata": {},
   "outputs": [],
   "source": [
    "probs[0][test_inds,:].shape"
   ]
  },
  {
   "cell_type": "code",
   "execution_count": null,
   "id": "ade01789",
   "metadata": {},
   "outputs": [],
   "source": [
    "#train_inds_time = times < np.max(y_train_time['exit_time_outcome'][train_inds])\n",
    "#test_inds_time = train_inds_time * (times < np.max(y_test_time['exit_time_outcome'][test_inds]))\n",
    "test_inds_time = times < np.max(y_test['time'][test_inds])"
   ]
  },
  {
   "cell_type": "code",
   "execution_count": null,
   "id": "15962044",
   "metadata": {},
   "outputs": [],
   "source": [
    "print(np.max(times[test_inds_time])); #print(np.max(times[train_inds_time]))"
   ]
  },
  {
   "cell_type": "code",
   "execution_count": null,
   "id": "e0148e1d",
   "metadata": {},
   "outputs": [],
   "source": [
    "print(np.max(y_test['time'][test_inds])); print(np.max(y_train['time'][train_inds]))"
   ]
  },
  {
   "cell_type": "markdown",
   "id": "6dc0ff98",
   "metadata": {},
   "source": [
    "#### MAE expected years"
   ]
  },
  {
   "cell_type": "code",
   "execution_count": null,
   "id": "d1bfa648",
   "metadata": {},
   "outputs": [],
   "source": [
    "expected_years = pd.Series(\n",
    "    [np.trapz(probs_full[ind],axis=1) for ind in range(len(names))],\n",
    "    index = names,\n",
    "    name = \"Expected years lived\"\n",
    ")"
   ]
  },
  {
   "cell_type": "code",
   "execution_count": null,
   "id": "17a65c30",
   "metadata": {},
   "outputs": [],
   "source": [
    "# Compare models\n",
    "score_int_brier = pd.Series(\n",
    "    [integrated_brier_score(y_train[train_inds], #,train_inds_time], \n",
    "                            y_test[test_inds],#,test_inds_time], \n",
    "                            prob[test_inds][:,test_inds_time], \n",
    "                            times[test_inds_time]) for prob in probs],\n",
    "    index = names,\n",
    "    name = \"IBS\"\n",
    ")\n",
    "\n",
    "score_mean_auc = pd.Series(\n",
    "    [cumulative_dynamic_auc(y_train[train_inds], #,train_inds_time], \n",
    "                            y_test[test_inds],#,test_inds_time], \n",
    "                            -prob[test_inds][:,test_inds_time], \n",
    "                            times[test_inds_time])[1] for prob in probs],\n",
    "    index = names,\n",
    "    name = \"Mean AUC\"\n",
    ")\n",
    "\n",
    "score_mae = pd.Series(\n",
    "    [\n",
    "        mae(y_test['time'][test_inds_mae],\n",
    "            expected_years[model][test_inds_mae],\n",
    "            y_test['event'][test_inds_mae]) for model in names\n",
    "    ],\n",
    "    index = names,\n",
    "    name = \"MAE\"\n",
    ")\n",
    "\n",
    "score_bias = pd.Series(\n",
    "    [\n",
    "        bias(y_test['time'][test_inds_mae],\n",
    "            expected_years[model][test_inds_mae],\n",
    "            y_test['event'][test_inds_mae]) for model in names\n",
    "    ],\n",
    "    index = names,\n",
    "    name = \"Bias\"\n",
    ")\n",
    "\n",
    "# dynamic metrics\n",
    "score_dynamic_brier = pd.Series(\n",
    "    [brier_score(y_train[train_inds], #,train_inds_time], \n",
    "                 y_test[test_inds],#,test_inds_time], \n",
    "                 prob[test_inds][:,test_inds_time], \n",
    "                 times[test_inds_time])[1] for prob in probs],\n",
    "    index = names,\n",
    "    name = \"Brier score\"\n",
    ")\n",
    "\n",
    "score_dynamic_auc = pd.Series(\n",
    "    [cumulative_dynamic_auc(y_train[train_inds], #,train_inds_time], \n",
    "                            y_test[test_inds],#,test_inds_time], \n",
    "                            -prob[test_inds][:,test_inds_time], \n",
    "                            times[test_inds_time])[0] for prob in probs],\n",
    "    index = names,\n",
    "    name = \"AUC\"\n",
    ")\n",
    "\n",
    "scores_rc = pd.concat([score_int_brier,score_mean_auc,score_mae,score_bias], axis = 1).round(3); scores_rc"
   ]
  },
  {
   "cell_type": "code",
   "execution_count": null,
   "id": "a2dea8c9",
   "metadata": {
    "scrolled": true
   },
   "outputs": [],
   "source": [
    "# Plot Dynamic AUC\n",
    "fs = 12  # fontsize\n",
    "fig, ax = plt.subplots(nrows=1, ncols=2, figsize=(16,6))\n",
    "ax[0].set_title('time-dependent AUC', fontsize=fs)\n",
    "ax[1].set_title('time-dependent Brier score', fontsize=fs)\n",
    "\n",
    "for j in range(len(probs)):\n",
    "    ax[0].plot(times[test_inds_time], score_dynamic_auc[j], \"o-\", label=str(names[j]) + \" (mean AUC = {:.3f})\".format(score_mean_auc[j]))\n",
    "    ax[1].plot(times[test_inds_time], score_dynamic_brier[j], \"o-\", label=str(names[j]) + \" (IBS = {:.3f})\".format(score_int_brier[j]))\n",
    "\n",
    "ax[0].set_xlabel(\"Time to death (yrs)\")\n",
    "ax[1].set_xlabel(\"Time to death (yrs)\")\n",
    "\n",
    "ax[0].set_ylabel(\"AUC\")\n",
    "ax[1].set_ylabel(\"Brier score\")\n",
    "\n",
    "ax[0].legend(loc=\"lower right\")\n",
    "ax[1].legend(loc=\"lower right\")\n",
    "ax[0].grid(True); ax[1].grid(True)"
   ]
  },
  {
   "cell_type": "code",
   "execution_count": null,
   "id": "96f7756b",
   "metadata": {},
   "outputs": [],
   "source": [
    "path = '6_Evaluation/minus_backimpd/'\n",
    "\n",
    "# save metrics\n",
    "dicts = {'time':times}\n",
    "for _, mod in enumerate(score_dynamic_brier.index):\n",
    "        dicts[mod] = score_dynamic_brier[mod]\n",
    "score_dynamic_brier_df = pd.DataFrame(dicts)\n",
    "\n",
    "score_dynamic_brier_df.to_csv(path + model + '/brier_' + group +'.csv')\n",
    "\n",
    "dicts = {'time':times}\n",
    "for _, mod in enumerate(score_dynamic_brier.index):\n",
    "        dicts[mod] = score_dynamic_auc[mod]\n",
    "score_dynamic_auc_df = pd.DataFrame(dicts)\n",
    "\n",
    "score_dynamic_auc_df.to_csv(path + model + '/auc_' + group +'.csv')\n",
    "\n",
    "score_int_brier.to_csv(path + model + '/int_brier_' + group +'.csv')\n",
    "score_mean_auc.to_csv(path + model + '/mean_auc_' + group +'.csv')\n",
    "score_mae.to_csv(path + model + '/mae_' + group +'.csv')\n",
    "score_bias.to_csv(path + model + '/bias_' + group +'.csv')"
   ]
  },
  {
   "cell_type": "code",
   "execution_count": null,
   "id": "d8ea2a43",
   "metadata": {},
   "outputs": [],
   "source": []
  },
  {
   "cell_type": "code",
   "execution_count": null,
   "id": "04f06b82",
   "metadata": {},
   "outputs": [],
   "source": []
  },
  {
   "cell_type": "code",
   "execution_count": null,
   "id": "e893e2ee",
   "metadata": {},
   "outputs": [],
   "source": [
    "score_dynamic_brier[0]"
   ]
  },
  {
   "cell_type": "markdown",
   "id": "7271c219",
   "metadata": {},
   "source": [
    "# Metrics for subjective probabilities"
   ]
  },
  {
   "cell_type": "code",
   "execution_count": null,
   "id": "b070b0d9",
   "metadata": {},
   "outputs": [],
   "source": [
    "expec = pyreadr.read_r(\"7_Expectations/expec_brier.rds\")[None]"
   ]
  },
  {
   "cell_type": "code",
   "execution_count": null,
   "id": "4bfa5800",
   "metadata": {},
   "outputs": [],
   "source": [
    "print(expec.shape)\n",
    "expec.head()"
   ]
  },
  {
   "cell_type": "code",
   "execution_count": null,
   "id": "fda247b1",
   "metadata": {},
   "outputs": [],
   "source": [
    "pd.unique(expec['hhidpn']).shape"
   ]
  },
  {
   "cell_type": "code",
   "execution_count": null,
   "id": "b65d2098",
   "metadata": {},
   "outputs": [],
   "source": [
    "y_train"
   ]
  },
  {
   "cell_type": "code",
   "execution_count": null,
   "id": "dc96a3bd",
   "metadata": {},
   "outputs": [],
   "source": [
    "models_subj = pd.unique(expec['model'])\n",
    "models_subj"
   ]
  },
  {
   "cell_type": "code",
   "execution_count": null,
   "id": "7e2865c2",
   "metadata": {},
   "outputs": [],
   "source": [
    "pd.unique(expec['outcome'])"
   ]
  },
  {
   "cell_type": "code",
   "execution_count": null,
   "id": "697d5298",
   "metadata": {},
   "outputs": [],
   "source": [
    "np.logical_not(np.isnan(expec['surv_prob']))"
   ]
  },
  {
   "cell_type": "code",
   "execution_count": null,
   "id": "7beadd07",
   "metadata": {},
   "outputs": [],
   "source": [
    "expec_obs = expec[np.logical_not(np.isnan(expec['surv_prob']))]\n",
    "expec_obs.shape"
   ]
  },
  {
   "cell_type": "code",
   "execution_count": null,
   "id": "b895e5ce",
   "metadata": {},
   "outputs": [],
   "source": [
    "# form test outcomes\n",
    "# y_subj = [expec_obs.groupby('hhidpn').agg({'event_type_outcome':'min','exit_age_outcome':'min'})\n",
    "y_subj = [expec_obs.loc[expec_obs['model'] == mod,['event_type_outcome','exit_age_outcome']] for mod in models_subj]"
   ]
  },
  {
   "cell_type": "code",
   "execution_count": null,
   "id": "e1293346",
   "metadata": {},
   "outputs": [],
   "source": [
    "y_subj"
   ]
  },
  {
   "cell_type": "code",
   "execution_count": null,
   "id": "c14d9308",
   "metadata": {},
   "outputs": [],
   "source": [
    "for count,mod in enumerate(models_subj):\n",
    "    y_subj[count]['event_type_outcome'] = y_subj[count]['event_type_outcome'].astype(bool)\n",
    "    y_subj[count] = y_subj[count].to_records(index = False)\n",
    "\n",
    "y_subj"
   ]
  },
  {
   "cell_type": "code",
   "execution_count": null,
   "id": "98e43027",
   "metadata": {},
   "outputs": [],
   "source": [
    "# form probs\n",
    "probs_subj = [expec_obs[expec_obs['model'] == mod]['surv_prob'] for mod in models_subj]"
   ]
  },
  {
   "cell_type": "code",
   "execution_count": null,
   "id": "f554844e",
   "metadata": {},
   "outputs": [],
   "source": [
    "probs_subj"
   ]
  },
  {
   "cell_type": "code",
   "execution_count": null,
   "id": "2caab69d",
   "metadata": {},
   "outputs": [],
   "source": [
    "for count,mod in enumerate(models_subj):\n",
    "    print(probs_subj[count].shape)"
   ]
  },
  {
   "cell_type": "code",
   "execution_count": null,
   "id": "d246ca1a",
   "metadata": {},
   "outputs": [],
   "source": [
    "# Compare models\n",
    "score_brier = pd.Series(\n",
    "    [brier_score(y_train_age,\n",
    "                 y_subj[j],\n",
    "                 probs_subj[j], \n",
    "                 75)[1][0] for j in range(len(models_subj))],\n",
    "    index = models_subj,\n",
    "    name = \"Brier score\"\n",
    ")\n",
    "\n",
    "score_auc = pd.Series(\n",
    "    [cumulative_dynamic_auc(y_train_age,\n",
    "                 y_subj[j],\n",
    "                 -probs_subj[j], \n",
    "                 75)[0][0] for j in range(len(models_subj))],\n",
    "    index = models_subj,\n",
    "    name = \"AUC\"\n",
    ")\n",
    "\n",
    "scores = pd.concat([score_brier,score_auc], axis = 1).round(3); scores"
   ]
  },
  {
   "cell_type": "markdown",
   "id": "75554a07",
   "metadata": {},
   "source": [
    "# RMSE of observed vs. expected years lived in study"
   ]
  },
  {
   "cell_type": "markdown",
   "id": "820ff80d",
   "metadata": {},
   "source": [
    "## Calculate expected years lived in study"
   ]
  },
  {
   "cell_type": "code",
   "execution_count": null,
   "id": "acdbe473",
   "metadata": {},
   "outputs": [],
   "source": [
    "y_test_dead = y_test[y_test['event'] == 1]"
   ]
  },
  {
   "cell_type": "code",
   "execution_count": null,
   "id": "3cc53353",
   "metadata": {},
   "outputs": [],
   "source": [
    "dicts = {}\n",
    "for ind, model in enumerate(names):\n",
    "        dicts[model] = np.sum(probs[ind],axis=1) \n",
    "        \n",
    "dicts"
   ]
  },
  {
   "cell_type": "code",
   "execution_count": null,
   "id": "2e427087",
   "metadata": {},
   "outputs": [],
   "source": [
    "np.sum(probs[10],axis=1).shape"
   ]
  },
  {
   "cell_type": "code",
   "execution_count": null,
   "id": "dd9c63a2",
   "metadata": {},
   "outputs": [],
   "source": [
    "expected_years = pd.Series(\n",
    "    [np.sum(probs[ind],axis=1) for ind in range(len(names))],\n",
    "    index = names,\n",
    "    name = \"Expected years lived\"\n",
    ")"
   ]
  },
  {
   "cell_type": "code",
   "execution_count": null,
   "id": "724c4b6f",
   "metadata": {},
   "outputs": [],
   "source": [
    "expected_years['Cox']"
   ]
  },
  {
   "cell_type": "markdown",
   "id": "df230465",
   "metadata": {},
   "source": [
    "## Calculate RMSE"
   ]
  },
  {
   "cell_type": "code",
   "execution_count": null,
   "id": "e6fb9d51",
   "metadata": {},
   "outputs": [],
   "source": [
    "def rmse(obs,exp,inds):\n",
    "    return(np.sqrt(np.mean(inds*((obs-exp)**2))))\n",
    "\n",
    "def mae(obs,exp,inds):\n",
    "    return(np.mean(np.abs(inds*(obs-exp))))"
   ]
  },
  {
   "cell_type": "code",
   "execution_count": null,
   "id": "d095f3c6",
   "metadata": {},
   "outputs": [],
   "source": [
    "rmse_years = pd.Series(\n",
    "    [\n",
    "        rmse(y_test['time'],expected_years[model],y_test['event']) for model in names\n",
    "    ],\n",
    "    index = names,\n",
    "    name = \"RMSE of predicted years lived\"\n",
    ")"
   ]
  },
  {
   "cell_type": "code",
   "execution_count": null,
   "id": "b337ae9a",
   "metadata": {
    "scrolled": true
   },
   "outputs": [],
   "source": [
    "rmse_years.round(2)"
   ]
  },
  {
   "cell_type": "markdown",
   "id": "929b7678",
   "metadata": {},
   "source": [
    "# Plot survival curves"
   ]
  },
  {
   "cell_type": "code",
   "execution_count": null,
   "id": "9c2d887b",
   "metadata": {},
   "outputs": [],
   "source": [
    "# plot some estimated survival curves\n",
    "plt.plot(times,cph_surv_prob.transpose()[:,0:10])"
   ]
  },
  {
   "cell_type": "code",
   "execution_count": null,
   "id": "0468244a",
   "metadata": {},
   "outputs": [],
   "source": []
  },
  {
   "cell_type": "code",
   "execution_count": null,
   "id": "205599a9",
   "metadata": {},
   "outputs": [],
   "source": []
  },
  {
   "cell_type": "code",
   "execution_count": null,
   "id": "60f92136",
   "metadata": {},
   "outputs": [],
   "source": []
  },
  {
   "cell_type": "markdown",
   "id": "9b8628d4",
   "metadata": {},
   "source": [
    "# Legacy code"
   ]
  },
  {
   "cell_type": "markdown",
   "id": "e604ca1c",
   "metadata": {},
   "source": [
    "## Misc data exploration"
   ]
  },
  {
   "cell_type": "code",
   "execution_count": null,
   "id": "1f3f29d2",
   "metadata": {},
   "outputs": [],
   "source": [
    "# read in data\n",
    "df_train = pyreadr.read_r(\"4_modelling_data/all_train_imputed_scaled.rds\")[None]\n",
    "df_test = pyreadr.read_r(\"4_modelling_data/all_test_imputed_scaled.rds\")[None]"
   ]
  },
  {
   "cell_type": "code",
   "execution_count": null,
   "id": "e9877818",
   "metadata": {},
   "outputs": [],
   "source": [
    "df_train['event_type_outcome'] = df_train['event_type_outcome'].astype(bool)\n",
    "df_test['event_type_outcome'] = df_test['event_type_outcome'].astype(bool)"
   ]
  },
  {
   "cell_type": "code",
   "execution_count": null,
   "id": "0688e8cd",
   "metadata": {},
   "outputs": [],
   "source": [
    "print(df_train.shape)\n",
    "df_train.head()"
   ]
  },
  {
   "cell_type": "code",
   "execution_count": null,
   "id": "16bd14ec",
   "metadata": {},
   "outputs": [],
   "source": [
    "df_train.columns[0:100]"
   ]
  },
  {
   "cell_type": "code",
   "execution_count": null,
   "id": "d4f199aa",
   "metadata": {},
   "outputs": [],
   "source": [
    "df_train['start_outcome']"
   ]
  },
  {
   "cell_type": "code",
   "execution_count": null,
   "id": "0525d34d",
   "metadata": {},
   "outputs": [],
   "source": [
    "np.unique(df_test['hhidpn']).shape"
   ]
  },
  {
   "cell_type": "code",
   "execution_count": null,
   "id": "88660a79",
   "metadata": {},
   "outputs": [],
   "source": [
    "df_test.groupby('hhidpn').agg({'event_type_outcome': 'max', 'exit_time_outcome': 'max'})"
   ]
  },
  {
   "cell_type": "code",
   "execution_count": null,
   "id": "77fac798",
   "metadata": {},
   "outputs": [],
   "source": []
  },
  {
   "cell_type": "code",
   "execution_count": null,
   "id": "698b186f",
   "metadata": {},
   "outputs": [],
   "source": [
    "inds = np.where((df_train['exit_time_outcome'] < 1) & \n",
    "                (df_train['exit_time_outcome'] > 0) &\n",
    "                (df_train['event_type_outcome'] == 0))\n",
    "plt.hist(df_train.iloc[inds]['last_wave_outcome'])\n",
    "plt.hist(df_train.iloc[inds]['first_wave_outcome'])"
   ]
  },
  {
   "cell_type": "code",
   "execution_count": null,
   "id": "f0fb158a",
   "metadata": {},
   "outputs": [],
   "source": [
    "df_train.columns[0:30]"
   ]
  },
  {
   "cell_type": "code",
   "execution_count": null,
   "id": "ebe19256",
   "metadata": {},
   "outputs": [],
   "source": [
    "df_train.iloc[inds]['iwdate_outcome']"
   ]
  },
  {
   "cell_type": "code",
   "execution_count": null,
   "id": "e8ff1364",
   "metadata": {},
   "outputs": [],
   "source": [
    "inds = np.where((df_train['exit_time_outcome'] == 0))\n",
    "plt.hist(df_train.iloc[inds]['last_wave_outcome'] == df_train.iloc[inds]['first_wave_outcome'])"
   ]
  },
  {
   "cell_type": "markdown",
   "id": "24a5f33c",
   "metadata": {},
   "source": [
    "## Create survival objects"
   ]
  },
  {
   "cell_type": "code",
   "execution_count": null,
   "id": "476303a2",
   "metadata": {},
   "outputs": [],
   "source": [
    "# y_train = df_train[df_train['last_wave_outcome'] == df_train['wave_outcome']].loc[:,['event_type_outcome','exit_time_outcome']].to_records(index=False)\n",
    "# y_test = df_test[df_test['last_wave_outcome'] == df_test['wave_outcome']].loc[:,['event_type_outcome','exit_time_outcome']].to_records(index=False)"
   ]
  },
  {
   "cell_type": "code",
   "execution_count": null,
   "id": "a7e9f6b1",
   "metadata": {},
   "outputs": [],
   "source": [
    "# y_train = df_train[df_train['age'] == df_train['start_outcome']].loc[:,['event_type_outcome','exit_time_outcome']].to_records(index=False)\n",
    "# y_test = df_test[df_test['age'] == df_test['start_outcome']].loc[:,['event_type_outcome','exit_time_outcome']].to_records(index=False)"
   ]
  },
  {
   "cell_type": "code",
   "execution_count": null,
   "id": "e7ba3be6",
   "metadata": {},
   "outputs": [],
   "source": [
    "y_train = df_train.groupby('hhidpn').agg({'event_type_outcome': 'max', 'exit_time_outcome': 'max'}).loc[:,['event_type_outcome','exit_time_outcome']].to_records(index=False)\n",
    "y_test = df_test.groupby('hhidpn').agg({'event_type_outcome': 'max', 'exit_time_outcome': 'max'}).loc[:,['event_type_outcome','exit_time_outcome']].to_records(index=False)"
   ]
  },
  {
   "cell_type": "code",
   "execution_count": null,
   "id": "2f58ae6b",
   "metadata": {},
   "outputs": [],
   "source": [
    "y_train"
   ]
  },
  {
   "cell_type": "code",
   "execution_count": null,
   "id": "f74a7d04",
   "metadata": {},
   "outputs": [],
   "source": [
    "y_test.shape"
   ]
  },
  {
   "cell_type": "code",
   "execution_count": null,
   "id": "189c1ce3",
   "metadata": {},
   "outputs": [],
   "source": [
    "y_train_time = y_train\n",
    "y_test_time = y_test"
   ]
  },
  {
   "cell_type": "markdown",
   "id": "731c8cec",
   "metadata": {},
   "source": [
    "## Load survival objects"
   ]
  },
  {
   "cell_type": "code",
   "execution_count": null,
   "id": "6462742e",
   "metadata": {},
   "outputs": [],
   "source": [
    "x_train_time = pd.read_pickle(path + \"data/X_train_time.pkl\")\n",
    "x_test_time = pd.read_pickle(path + \"data/X_test_time.pkl\")\n",
    "\n",
    "x_train_age = pd.read_pickle(path + \"data/X_train_age.pkl\")\n",
    "x_test_age = pd.read_pickle(path + \"data/X_test_age.pkl\")"
   ]
  },
  {
   "cell_type": "code",
   "execution_count": null,
   "id": "9718efee",
   "metadata": {},
   "outputs": [],
   "source": [
    "# # write data to csv\n",
    "# import pickle as pkl\n",
    "# import pandas as pd\n",
    "\n",
    "# with open(path + \"data/y_test_age.pkl\", \"rb\") as f:\n",
    "#     object = pkl.load(f)\n",
    "    \n",
    "# df = pd.DataFrame(object)\n",
    "# df.to_csv(path + \"data/y_test_age.csv\")"
   ]
  },
  {
   "cell_type": "code",
   "execution_count": null,
   "id": "1ee78272",
   "metadata": {},
   "outputs": [],
   "source": [
    "# add left truncation times\n",
    "y_train_age_lt = pd.DataFrame(y_train_age)\n",
    "y_train_age_lt['Start'] = np.array(x_train_time['age'])\n",
    "y_train_age_lt['Stop'] = np.array(y_train_age_lt['exit_age_outcome'])\n",
    "y_train_age_lt['Event'] = np.array(y_train_age_lt['event_type_outcome'])\n",
    "y_train_age_lt = y_train_age_lt.loc[:,['Start','Stop','Event']].to_records(index=False)\n",
    "\n",
    "y_test_age_lt = pd.DataFrame(y_test_age)\n",
    "y_test_age_lt['Start'] = np.array(x_test_time['age'])\n",
    "y_test_age_lt['Stop'] = np.array(y_test_age_lt['exit_age_outcome'])\n",
    "y_test_age_lt['Event'] = np.array(y_test_age_lt['event_type_outcome'])\n",
    "y_test_age_lt = y_test_age_lt.loc[:,['Start','Stop','Event']].to_records(index=False)"
   ]
  },
  {
   "cell_type": "code",
   "execution_count": null,
   "id": "291d8d67",
   "metadata": {},
   "outputs": [],
   "source": [
    "y_train_age_lt"
   ]
  },
  {
   "cell_type": "code",
   "execution_count": null,
   "id": "66857b6d",
   "metadata": {},
   "outputs": [],
   "source": [
    "# add left truncation times\n",
    "y_train_time_lt = pd.DataFrame(y_train_time)\n",
    "y_train_time_lt['Start'] = 0 \n",
    "y_train_time_lt['Stop'] = np.array(y_train_time_lt['exit_time_outcome'])\n",
    "y_train_time_lt['Event'] = np.array(y_train_time_lt['event_type_outcome'])\n",
    "y_train_time_lt = y_train_time_lt.loc[:,['Start','Stop','Event']].to_records(index=False)\n",
    "\n",
    "y_test_time_lt = pd.DataFrame(y_test_time)\n",
    "y_test_time_lt['Start'] = 0\n",
    "y_test_time_lt['Stop'] = np.array(y_test_time_lt['exit_time_outcome'])\n",
    "y_test_time_lt['Event'] = np.array(y_test_time_lt['event_type_outcome'])\n",
    "y_test_time_lt = y_test_time_lt.loc[:,['Start','Stop','Event']].to_records(index=False)"
   ]
  },
  {
   "cell_type": "code",
   "execution_count": null,
   "id": "6f7b0637",
   "metadata": {},
   "outputs": [],
   "source": [
    "y_train_time_lt"
   ]
  },
  {
   "cell_type": "code",
   "execution_count": null,
   "id": "ebb978b8",
   "metadata": {},
   "outputs": [],
   "source": [
    "# add left truncation times\n",
    "y_train_time_age_lt = pd.DataFrame(y_train_age)\n",
    "y_train_time_age_lt['Start'] = np.array(x_train_time['age'])\n",
    "y_train_time_age_lt['Stop'] = np.array(y_train_time['exit_time_outcome'] + x_train_time['age'])\n",
    "y_train_time_age_lt['Event'] = np.array(y_train_time_age_lt['event_type_outcome'])\n",
    "y_train_time_age_lt = y_train_time_age_lt.loc[:,['Start','Stop','Event']].to_records(index=False)\n",
    "\n",
    "y_test_time_age_lt = pd.DataFrame(y_test_age)\n",
    "y_test_time_age_lt['Start'] = np.array(x_test_time['age'])\n",
    "y_test_time_age_lt['Stop'] = np.array(y_test_time['exit_time_outcome'] + x_test_time['age'])\n",
    "y_test_time_age_lt['Event'] = np.array(y_test_time_age_lt['event_type_outcome'])\n",
    "y_test_time_age_lt = y_test_time_age_lt.loc[:,['Start','Stop','Event']].to_records(index=False)"
   ]
  },
  {
   "cell_type": "code",
   "execution_count": null,
   "id": "43c902d3",
   "metadata": {},
   "outputs": [],
   "source": [
    "y_train_time_age_lt"
   ]
  },
  {
   "cell_type": "markdown",
   "id": "696d84a5",
   "metadata": {},
   "source": [
    "## sanity check about age vs. time in study"
   ]
  },
  {
   "cell_type": "code",
   "execution_count": null,
   "id": "337203ae",
   "metadata": {},
   "outputs": [],
   "source": [
    "np.mean(np.abs(x_train_time['age'] + y_train_time['exit_time_outcome'] - y_train_age['exit_age_outcome']))"
   ]
  },
  {
   "cell_type": "code",
   "execution_count": null,
   "id": "e5023455",
   "metadata": {},
   "outputs": [],
   "source": [
    "plt.hist(np.abs(x_train_time['age'] + y_train_time['exit_time_outcome'] - y_train_age['exit_age_outcome']))"
   ]
  },
  {
   "cell_type": "code",
   "execution_count": null,
   "id": "e09684a9",
   "metadata": {},
   "outputs": [],
   "source": [
    "np.mean(np.abs((df_train['iwdate_outcome'] - df_train['birth_date_outcome']) - x_train_time['age']))"
   ]
  },
  {
   "cell_type": "code",
   "execution_count": null,
   "id": "2e1038fb",
   "metadata": {},
   "outputs": [],
   "source": [
    "df_train.columns[0:30]"
   ]
  }
 ],
 "metadata": {
  "kernelspec": {
   "display_name": "Python 3 (ipykernel)",
   "language": "python",
   "name": "python3"
  },
  "language_info": {
   "codemirror_mode": {
    "name": "ipython",
    "version": 3
   },
   "file_extension": ".py",
   "mimetype": "text/x-python",
   "name": "python",
   "nbconvert_exporter": "python",
   "pygments_lexer": "ipython3",
   "version": "3.9.15"
  }
 },
 "nbformat": 4,
 "nbformat_minor": 5
}
